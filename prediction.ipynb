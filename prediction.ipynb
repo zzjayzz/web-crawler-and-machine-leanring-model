{
 "cells": [
  {
   "cell_type": "code",
   "execution_count": 59,
   "metadata": {},
   "outputs": [],
   "source": [
    "import pandas as pd\n",
    "import numpy as np\n",
    "from nltk.corpus import stopwords\n",
    "import time\n",
    "import re\n",
    "from sklearn.model_selection import train_test_split\n",
    "from sklearn.feature_extraction.text import CountVectorizer\n",
    "from sklearn.metrics import accuracy_score\n",
    "import random\n",
    "from scipy.sparse import hstack\n",
    "from itertools import combinations\n",
    "from sklearn.metrics import accuracy_score\n",
    "from sklearn.tree import DecisionTreeClassifier\n",
    "from sklearn.naive_bayes import MultinomialNB\n",
    "from sklearn.naive_bayes import GaussianNB\n",
    "from sklearn.neighbors import KNeighborsClassifier\n",
    "from sklearn.neural_network import MLPClassifier\n",
    "from sklearn.linear_model import LogisticRegression\n",
    "from sklearn.ensemble import VotingClassifier\n",
    "from sklearn.ensemble import ExtraTreesClassifier\n",
    "from sklearn.model_selection import GridSearchCV\n",
    "from sklearn.ensemble import RandomForestClassifier\n",
    "from sklearn import svm\n",
    "from sklearn.ensemble import AdaBoostClassifier\n"
   ]
  },
  {
   "cell_type": "code",
   "execution_count": 2,
   "metadata": {},
   "outputs": [
    {
     "name": "stdout",
     "output_type": "stream",
     "text": [
      "Requirement already satisfied: ipython in c:\\users\\dell\\anaconda3\\lib\\site-packages (7.8.0)\n",
      "Requirement already satisfied: jedi>=0.10 in c:\\users\\dell\\anaconda3\\lib\\site-packages (from ipython) (0.15.1)\n",
      "Requirement already satisfied: traitlets>=4.2 in c:\\users\\dell\\anaconda3\\lib\\site-packages (from ipython) (4.3.3)\n",
      "Requirement already satisfied: colorama; sys_platform == \"win32\" in c:\\users\\dell\\anaconda3\\lib\\site-packages (from ipython) (0.4.1)\n",
      "Requirement already satisfied: decorator in c:\\users\\dell\\anaconda3\\lib\\site-packages (from ipython) (4.4.0)\n",
      "Requirement already satisfied: pickleshare in c:\\users\\dell\\anaconda3\\lib\\site-packages (from ipython) (0.7.5)\n",
      "Requirement already satisfied: prompt-toolkit<2.1.0,>=2.0.0 in c:\\users\\dell\\anaconda3\\lib\\site-packages (from ipython) (2.0.10)\n",
      "Requirement already satisfied: pygments in c:\\users\\dell\\anaconda3\\lib\\site-packages (from ipython) (2.4.2)\n",
      "Requirement already satisfied: backcall in c:\\users\\dell\\anaconda3\\lib\\site-packages (from ipython) (0.1.0)\n",
      "Requirement already satisfied: setuptools>=18.5 in c:\\users\\dell\\anaconda3\\lib\\site-packages (from ipython) (41.4.0)\n",
      "Requirement already satisfied: parso>=0.5.0 in c:\\users\\dell\\anaconda3\\lib\\site-packages (from jedi>=0.10->ipython) (0.5.1)\n",
      "Requirement already satisfied: six in c:\\users\\dell\\anaconda3\\lib\\site-packages (from traitlets>=4.2->ipython) (1.12.0)\n",
      "Requirement already satisfied: ipython-genutils in c:\\users\\dell\\anaconda3\\lib\\site-packages (from traitlets>=4.2->ipython) (0.2.0)\n",
      "Requirement already satisfied: wcwidth in c:\\users\\dell\\anaconda3\\lib\\site-packages (from prompt-toolkit<2.1.0,>=2.0.0->ipython) (0.1.7)\n"
     ]
    }
   ],
   "source": [
    "!pip install ipython"
   ]
  },
  {
   "cell_type": "code",
   "execution_count": 60,
   "metadata": {},
   "outputs": [],
   "source": [
    "def warn(*args, **kwargs):\n",
    "    pass\n",
    "import warnings\n",
    "warnings.warn = warn"
   ]
  },
  {
   "cell_type": "code",
   "execution_count": 61,
   "metadata": {},
   "outputs": [],
   "source": [
    "train2=pd.read_csv('train2.csv')\n",
    "train1=pd.read_csv('train1.csv')\n",
    "train=pd.concat([train1,train2])\n",
    "df_all=train\n",
    "test=pd.read_csv('test_original.csv')"
   ]
  },
  {
   "cell_type": "code",
   "execution_count": 62,
   "metadata": {},
   "outputs": [
    {
     "name": "stdout",
     "output_type": "stream",
     "text": [
      "CIKM 1673\n",
      "CHI 1377\n",
      "KDD 986\n",
      "SIGIR 1440\n",
      "SIGCSE 1487\n",
      "WWW 1215\n",
      "siggraph 1443\n"
     ]
    }
   ],
   "source": [
    "print('CIKM',df_all[df_all['label']=='CIKM']['label'].count())\n",
    "print('CHI',df_all[df_all['label']=='CHI']['label'].count())\n",
    "print('KDD',df_all[df_all['label']=='KDD']['label'].count())\n",
    "print('SIGIR',df_all[df_all['label']=='SIGIR']['label'].count())\n",
    "print('SIGCSE',df_all[df_all['label']=='SIGCSE']['label'].count())\n",
    "print('WWW',df_all[df_all['label']=='WWW']['label'].count())\n",
    "print('siggraph',df_all[df_all['label']=='SIGGRAPH']['label'].count())"
   ]
  },
  {
   "cell_type": "code",
   "execution_count": 63,
   "metadata": {},
   "outputs": [],
   "source": [
    "rev_train,labels_train=train['abstract'],train['label']\n",
    "rev_test,labels_test=test['abstract'],test['label']\n",
    "counter = CountVectorizer()\n",
    "counter.fit(rev_train)\n",
    "counts_train = counter.transform(rev_train)#transform the training data\n",
    "counts_test = counter.transform(rev_test)#transform the testing data\n"
   ]
  },
  {
   "cell_type": "code",
   "execution_count": 64,
   "metadata": {},
   "outputs": [],
   "source": [
    "\n",
    "counts_train = hstack((counts_train,np.array(train['year'])[:,None]))\n",
    "counts_test = hstack((counts_test,np.array(test['year'])[:,None]))\n",
    "counts_train = hstack((counts_train,np.array(train['number_author'])[:,None]))\n",
    "counts_test = hstack((counts_test,np.array(test['number_author'])[:,None]))\n",
    "counts_train = hstack((counts_train,np.array(train['new_author_count'])[:,None]))\n",
    "counts_test = hstack((counts_test,np.array(test['new_author_count'])[:,None]))"
   ]
  },
  {
   "cell_type": "code",
   "execution_count": 65,
   "metadata": {},
   "outputs": [],
   "source": [
    "#train classifier\n",
    "model1 = MultinomialNB(alpha=1.0, fit_prior=True, class_prior=None)\n",
    "model2 = LogisticRegression(solver='liblinear')\n",
    "# model3 = DecisionTreeClassifier(criterion='entropy', min_samples_leaf=5)\n",
    "# model3 = ExtraTreesClassifier(n_estimators=1300, max_depth=None,min_samples_split=2, random_state=0)\n",
    "# model3 = ExtraTreesClassifier(n_estimators=500, max_depth=None,min_samples_split=2, random_state=0)\n",
    "\n",
    "model4 = MLPClassifier(hidden_layer_sizes=(12,),max_iter=20, random_state=14, warm_start=True)\n",
    "model5 = MLPClassifier(hidden_layer_sizes=(9,),max_iter=17, random_state=14, warm_start=True)\n",
    "model6 = MLPClassifier(hidden_layer_sizes=(15,), random_state=1, max_iter=13, warm_start=True)\n",
    "model7 = DecisionTreeClassifier()\n",
    "model8= RandomForestClassifier(n_estimators=2500, n_jobs=-1,criterion=\"entropy\",max_features='auto',random_state=150,max_depth=1000,min_samples_split=160 )\n",
    "##model3=LogisticRegression(solver='liblinear')\n",
    "# model9=svm.SVC(gamma='scale')\n",
    "model10 = AdaBoostClassifier()\n"
   ]
  },
  {
   "cell_type": "code",
   "execution_count": null,
   "metadata": {},
   "outputs": [
    {
     "name": "stderr",
     "output_type": "stream",
     "text": [
      "C:\\Users\\dell\\Anaconda3\\lib\\site-packages\\ipykernel_launcher.py:1: DeprecationWarning: time.clock has been deprecated in Python 3.3 and will be removed from Python 3.8: use time.perf_counter or time.process_time instead\n",
      "  \"\"\"Entry point for launching an IPython kernel.\n",
      "C:\\Users\\dell\\Anaconda3\\lib\\site-packages\\ipykernel_launcher.py:16: DeprecationWarning: time.clock has been deprecated in Python 3.3 and will be removed from Python 3.8: use time.perf_counter or time.process_time instead\n",
      "  app.launch_new_instance()\n",
      "C:\\Users\\dell\\Anaconda3\\lib\\site-packages\\ipykernel_launcher.py:21: DeprecationWarning: time.clock has been deprecated in Python 3.3 and will be removed from Python 3.8: use time.perf_counter or time.process_time instead\n",
      "C:\\Users\\dell\\Anaconda3\\lib\\site-packages\\ipykernel_launcher.py:16: DeprecationWarning: time.clock has been deprecated in Python 3.3 and will be removed from Python 3.8: use time.perf_counter or time.process_time instead\n",
      "  app.launch_new_instance()\n"
     ]
    },
    {
     "name": "stdout",
     "output_type": "stream",
     "text": [
      "Multinomial NB Test Accuracy: 71.5%\n",
      "predicting time : 0.07220739999957004 seconds\n",
      "Logistic Regression Test Accuracy: 79.8%\n",
      "predicting time : 12.960276099999646 seconds\n",
      "MLP1 Test Accuracy: 69.7%\n",
      "predicting time : 1.7655575000007957 seconds\n"
     ]
    },
    {
     "name": "stderr",
     "output_type": "stream",
     "text": [
      "C:\\Users\\dell\\Anaconda3\\lib\\site-packages\\ipykernel_launcher.py:21: DeprecationWarning: time.clock has been deprecated in Python 3.3 and will be removed from Python 3.8: use time.perf_counter or time.process_time instead\n",
      "C:\\Users\\dell\\Anaconda3\\lib\\site-packages\\ipykernel_launcher.py:16: DeprecationWarning: time.clock has been deprecated in Python 3.3 and will be removed from Python 3.8: use time.perf_counter or time.process_time instead\n",
      "  app.launch_new_instance()\n"
     ]
    },
    {
     "name": "stdout",
     "output_type": "stream",
     "text": [
      "MLP2 Test Accuracy: 17.0%\n",
      "predicting time : 1.5619985000002998 seconds\n"
     ]
    },
    {
     "name": "stderr",
     "output_type": "stream",
     "text": [
      "C:\\Users\\dell\\Anaconda3\\lib\\site-packages\\ipykernel_launcher.py:21: DeprecationWarning: time.clock has been deprecated in Python 3.3 and will be removed from Python 3.8: use time.perf_counter or time.process_time instead\n",
      "C:\\Users\\dell\\Anaconda3\\lib\\site-packages\\ipykernel_launcher.py:16: DeprecationWarning: time.clock has been deprecated in Python 3.3 and will be removed from Python 3.8: use time.perf_counter or time.process_time instead\n",
      "  app.launch_new_instance()\n"
     ]
    },
    {
     "name": "stdout",
     "output_type": "stream",
     "text": [
      "MLP3 Test Accuracy: 76.8%\n",
      "predicting time : 2.031706800000393 seconds\n"
     ]
    },
    {
     "name": "stderr",
     "output_type": "stream",
     "text": [
      "C:\\Users\\dell\\Anaconda3\\lib\\site-packages\\ipykernel_launcher.py:21: DeprecationWarning: time.clock has been deprecated in Python 3.3 and will be removed from Python 3.8: use time.perf_counter or time.process_time instead\n",
      "C:\\Users\\dell\\Anaconda3\\lib\\site-packages\\ipykernel_launcher.py:16: DeprecationWarning: time.clock has been deprecated in Python 3.3 and will be removed from Python 3.8: use time.perf_counter or time.process_time instead\n",
      "  app.launch_new_instance()\n"
     ]
    },
    {
     "name": "stdout",
     "output_type": "stream",
     "text": [
      "DS Test Accuracy: 66.9%\n",
      "predicting time : 6.3625787999999375 seconds\n"
     ]
    },
    {
     "name": "stderr",
     "output_type": "stream",
     "text": [
      "C:\\Users\\dell\\Anaconda3\\lib\\site-packages\\ipykernel_launcher.py:21: DeprecationWarning: time.clock has been deprecated in Python 3.3 and will be removed from Python 3.8: use time.perf_counter or time.process_time instead\n",
      "C:\\Users\\dell\\Anaconda3\\lib\\site-packages\\ipykernel_launcher.py:16: DeprecationWarning: time.clock has been deprecated in Python 3.3 and will be removed from Python 3.8: use time.perf_counter or time.process_time instead\n",
      "  app.launch_new_instance()\n"
     ]
    },
    {
     "name": "stdout",
     "output_type": "stream",
     "text": [
      "RF Test Accuracy: 60.1%\n",
      "predicting time : 27.754771300000357 seconds\n"
     ]
    },
    {
     "name": "stderr",
     "output_type": "stream",
     "text": [
      "C:\\Users\\dell\\Anaconda3\\lib\\site-packages\\ipykernel_launcher.py:21: DeprecationWarning: time.clock has been deprecated in Python 3.3 and will be removed from Python 3.8: use time.perf_counter or time.process_time instead\n",
      "C:\\Users\\dell\\Anaconda3\\lib\\site-packages\\ipykernel_launcher.py:16: DeprecationWarning: time.clock has been deprecated in Python 3.3 and will be removed from Python 3.8: use time.perf_counter or time.process_time instead\n",
      "  app.launch_new_instance()\n"
     ]
    },
    {
     "name": "stdout",
     "output_type": "stream",
     "text": [
      "BOOST Test Accuracy: 53.0%\n",
      "predicting time : 5.281196999999338 seconds\n",
      "Checking all combinations of models...\n"
     ]
    },
    {
     "name": "stderr",
     "output_type": "stream",
     "text": [
      "C:\\Users\\dell\\Anaconda3\\lib\\site-packages\\ipykernel_launcher.py:21: DeprecationWarning: time.clock has been deprecated in Python 3.3 and will be removed from Python 3.8: use time.perf_counter or time.process_time instead\n"
     ]
    },
    {
     "name": "stdout",
     "output_type": "stream",
     "text": [
      "Ensemble Models:  ['Multinomial NB', 'Logistic Regression', 'MLP1']\n",
      "Ensemble Accuracy: 78.7%\n",
      "Ensemble Models:  ['Multinomial NB', 'Logistic Regression', 'MLP2']\n",
      "Ensemble Accuracy: 72.7%\n",
      "Ensemble Models:  ['Multinomial NB', 'Logistic Regression', 'MLP3']\n",
      "Ensemble Accuracy: 78.9%\n",
      "Ensemble Models:  ['Multinomial NB', 'Logistic Regression', 'DS']\n",
      "Ensemble Accuracy: 78.3%\n",
      "Ensemble Models:  ['Multinomial NB', 'Logistic Regression', 'RF']\n",
      "Ensemble Accuracy: 73.6%\n",
      "Ensemble Models:  ['Multinomial NB', 'Logistic Regression', 'BOOST']\n",
      "Ensemble Accuracy: 74.5%\n",
      "Ensemble Models:  ['Multinomial NB', 'MLP1', 'MLP2']\n",
      "Ensemble Accuracy: 67.7%\n",
      "Ensemble Models:  ['Multinomial NB', 'MLP1', 'MLP3']\n",
      "Ensemble Accuracy: 76.6%\n",
      "Ensemble Models:  ['Multinomial NB', 'MLP1', 'DS']\n",
      "Ensemble Accuracy: 75.7%\n",
      "Ensemble Models:  ['Multinomial NB', 'MLP1', 'RF']\n",
      "Ensemble Accuracy: 71.9%\n",
      "Ensemble Models:  ['Multinomial NB', 'MLP1', 'BOOST']\n",
      "Ensemble Accuracy: 71.9%\n",
      "Ensemble Models:  ['Multinomial NB', 'MLP2', 'MLP3']\n",
      "Ensemble Accuracy: 73.6%\n",
      "Ensemble Models:  ['Multinomial NB', 'MLP2', 'DS']\n",
      "Ensemble Accuracy: 67.2%\n",
      "Ensemble Models:  ['Multinomial NB', 'MLP2', 'RF']\n",
      "Ensemble Accuracy: 59.9%\n",
      "Ensemble Models:  ['Multinomial NB', 'MLP2', 'BOOST']\n",
      "Ensemble Accuracy: 58.6%\n",
      "Ensemble Models:  ['Multinomial NB', 'MLP3', 'DS']\n",
      "Ensemble Accuracy: 76.6%\n",
      "Ensemble Models:  ['Multinomial NB', 'MLP3', 'RF']\n",
      "Ensemble Accuracy: 74.1%\n",
      "Ensemble Models:  ['Multinomial NB', 'MLP3', 'BOOST']\n",
      "Ensemble Accuracy: 74.0%\n",
      "Ensemble Models:  ['Multinomial NB', 'DS', 'RF']\n",
      "Ensemble Accuracy: 70.1%\n",
      "Ensemble Models:  ['Multinomial NB', 'DS', 'BOOST']\n",
      "Ensemble Accuracy: 69.5%\n",
      "Ensemble Models:  ['Multinomial NB', 'RF', 'BOOST']\n",
      "Ensemble Accuracy: 64.5%\n",
      "Ensemble Models:  ['Logistic Regression', 'MLP1', 'MLP2']\n",
      "Ensemble Accuracy: 72.5%\n",
      "Ensemble Models:  ['Logistic Regression', 'MLP1', 'MLP3']\n",
      "Ensemble Accuracy: 79.4%\n",
      "Ensemble Models:  ['Logistic Regression', 'MLP1', 'DS']\n",
      "Ensemble Accuracy: 77.9%\n",
      "Ensemble Models:  ['Logistic Regression', 'MLP1', 'RF']\n",
      "Ensemble Accuracy: 75.8%\n",
      "Ensemble Models:  ['Logistic Regression', 'MLP1', 'BOOST']\n",
      "Ensemble Accuracy: 74.7%\n",
      "Ensemble Models:  ['Logistic Regression', 'MLP2', 'MLP3']\n",
      "Ensemble Accuracy: 77.2%\n",
      "Ensemble Models:  ['Logistic Regression', 'MLP2', 'DS']\n",
      "Ensemble Accuracy: 70.0%\n",
      "Ensemble Models:  ['Logistic Regression', 'MLP2', 'RF']\n",
      "Ensemble Accuracy: 61.9%\n",
      "Ensemble Models:  ['Logistic Regression', 'MLP2', 'BOOST']\n",
      "Ensemble Accuracy: 61.3%\n",
      "Ensemble Models:  ['Logistic Regression', 'MLP3', 'DS']\n",
      "Ensemble Accuracy: 79.3%\n",
      "Ensemble Models:  ['Logistic Regression', 'MLP3', 'RF']\n",
      "Ensemble Accuracy: 77.6%\n",
      "Ensemble Models:  ['Logistic Regression', 'MLP3', 'BOOST']\n",
      "Ensemble Accuracy: 78.0%\n",
      "Ensemble Models:  ['Logistic Regression', 'DS', 'RF']\n",
      "Ensemble Accuracy: 75.8%\n",
      "Ensemble Models:  ['Logistic Regression', 'DS', 'BOOST']\n",
      "Ensemble Accuracy: 73.4%\n",
      "Ensemble Models:  ['Logistic Regression', 'RF', 'BOOST']\n",
      "Ensemble Accuracy: 66.6%\n",
      "Ensemble Models:  ['MLP1', 'MLP2', 'MLP3']\n",
      "Ensemble Accuracy: 71.5%\n",
      "Ensemble Models:  ['MLP1', 'MLP2', 'DS']\n",
      "Ensemble Accuracy: 64.3%\n",
      "Ensemble Models:  ['MLP1', 'MLP2', 'RF']\n",
      "Ensemble Accuracy: 58.0%\n",
      "Ensemble Models:  ['MLP1', 'MLP2', 'BOOST']\n",
      "Ensemble Accuracy: 57.6%\n",
      "Ensemble Models:  ['MLP1', 'MLP3', 'DS']\n",
      "Ensemble Accuracy: 77.5%\n"
     ]
    }
   ],
   "source": [
    "start_time_all = time.clock()\n",
    "predictors=[('Multinomial NB',model1),\n",
    "            ('Logistic Regression',model2),\n",
    "#             ('ExtraTreesClassifier',model3),\n",
    "            ('MLP1',model4),\n",
    "            ('MLP2',model5),\n",
    "            ('MLP3',model6),\n",
    "            ('DS',model7),\n",
    "            ('RF',model8),\n",
    "#             ('SVM',model9),\n",
    "            ('BOOST',model10),\n",
    "           ]\n",
    "\n",
    "#Fit all 6 models and print accuracy\n",
    "for predictor in predictors:\n",
    "    start_time = time.clock()\n",
    "    model = predictor[1]\n",
    "    model.fit(counts_train,labels_train)\n",
    "    test_predictions = model.predict(counts_test)\n",
    "    print(predictor[0]+' Test Accuracy: {0:.1%}'.format(accuracy_score(test_predictions,labels_test)))\n",
    "    print('predicting time :',time.clock() - start_time, \"seconds\")\n",
    "combos = combinations(predictors, 3)\n",
    "\n",
    "best_combo_models = []\n",
    "best_accuracy = 0\n",
    "print('Checking all combinations of models...')\n",
    "for combo in combos:\n",
    "    VT=VotingClassifier(combo)\n",
    "\n",
    "    #train all classifier on the same datasets\n",
    "    VT.fit(counts_train,labels_train)\n",
    "\n",
    "    #use hard voting to predict (majority voting)\n",
    "    pred=VT.predict(counts_test)\n",
    "    combo_accuracy = accuracy_score(pred,labels_test)\n",
    "\n",
    "    #print accuracy\n",
    "    ensemble_models = []\n",
    "    for c in combo:\n",
    "        ensemble_models.append(c[0])\n",
    "    print('Ensemble Models: ',ensemble_models)\n",
    "    print('Ensemble Accuracy: {0:0.1%}'.format(combo_accuracy))\n",
    "    \n",
    "    #Save best combination by accuracy\n",
    "    if combo_accuracy > best_accuracy:\n",
    "        best_accuracy = combo_accuracy\n",
    "        best_combo_models = ensemble_models\n",
    "    \n",
    "print('\\nBest Ensemble Models: ',best_combo_models)\n",
    "print('Best Ensemble Accuracy: {0:0.1%}'.format(best_accuracy))\n",
    "\n",
    "\n",
    "print('predicting time :',time.clock() - start_time_all, \"seconds\")"
   ]
  },
  {
   "cell_type": "code",
   "execution_count": null,
   "metadata": {},
   "outputs": [],
   "source": []
  }
 ],
 "metadata": {
  "kernelspec": {
   "display_name": "Python 3",
   "language": "python",
   "name": "python3"
  },
  "language_info": {
   "codemirror_mode": {
    "name": "ipython",
    "version": 3
   },
   "file_extension": ".py",
   "mimetype": "text/x-python",
   "name": "python",
   "nbconvert_exporter": "python",
   "pygments_lexer": "ipython3",
   "version": "3.7.4"
  }
 },
 "nbformat": 4,
 "nbformat_minor": 4
}
